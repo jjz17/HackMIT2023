{
 "cells": [
  {
   "cell_type": "code",
   "execution_count": 70,
   "metadata": {},
   "outputs": [],
   "source": [
    "# Importing the API and instantiating the client using your keys\n",
    "from terra.base_client import Terra\n",
    "import pandas as pd\n",
    "import numpy as np\n",
    "import matplotlib.pyplot as plt\n",
    "\n",
    "API_KEY = \"sHoKlayVARI2Z6UQQbAFpRWUaumi0S64\"\n",
    "DEV_ID = \"hackmitappmit-testing-6KdV9fgTBb\"\n",
    "SECRET = \"<Your Signing secret>\"\n",
    "\n",
    "\n",
    "\n",
    "terra = Terra(API_KEY, DEV_ID, SECRET)"
   ]
  },
  {
   "cell_type": "code",
   "execution_count": 71,
   "metadata": {},
   "outputs": [
    {
     "name": "stdout",
     "output_type": "stream",
     "text": [
      "ProvidersResponse(status='success', providers=['BIOSTRAP', 'CARDIOMOOD', 'CONCEPT2', 'COROS', 'CRONOMETER', 'DEXCOM', 'DEXCOM_EU', 'DEXCOM_JP', 'EATTHISMUCH', 'EIGHT', 'FATSECRET', 'FINALSURGE', 'FITBIT', 'FREESTYLELIBRE', 'GARMIN', 'GOOGLE', 'HAMMERHEAD', 'HUAWEI', 'IFIT', 'INBODY', 'KOMOOT', 'LIVEROWING', 'LEZYNE', 'MOXY', 'MYFITNESSPAL', 'NUTRACHECK', 'OMRON', 'OMRONUS', 'OURA', 'PELOTON', 'POLAR', 'PUL', 'RIDEWITHGPS', 'ROUVY', 'SUUNTO', 'TECHNOGYM', 'TEMPO', 'TRIDOT', 'TREDICT', 'TRAININGPEAKS', 'TRAINASONE', 'TRAINERROAD', 'UNDERARMOUR', 'VIRTUAGYM', 'WAHOO', 'WEAROS', 'WHOOP', 'WITHINGS', 'XIAOMI', 'XOSS', 'ZWIFT', 'XERT', 'BRYTONSPORT', 'TODAYSPLAN', 'WGER', 'VELOHERO', 'TESTINTEGRATION', 'CYCLINGANALYTICS', 'NOLIO', 'TRAINXHALE', 'KETOMOJOUS', 'KETOMOJOEU', 'STRAVA', 'CLUE', 'HEALTHGAUGE', 'MACROSFIRST', 'SOMNOFY', 'AKTIIA', 'DECATHLON'], sdk_providers=['GOOGLEFIT', 'FREESTYLELIBRESDK', 'APPLE', 'SAMSUNG', 'REALTIME'])\n"
     ]
    }
   ],
   "source": [
    "parsed_api_response = terra.list_providers().get_parsed_response()\n",
    "print(parsed_api_response)"
   ]
  },
  {
   "cell_type": "code",
   "execution_count": 14,
   "metadata": {},
   "outputs": [
    {
     "name": "stdout",
     "output_type": "stream",
     "text": [
      "WidgetSession(expires_in=900, status='success', session_id='31f0cb3a-2adf-4533-bbdf-8f6a0664504f', url='https://widget.tryterra.co/session/31f0cb3a-2adf-4533-bbdf-8f6a0664504f')\n"
     ]
    }
   ],
   "source": [
    "widget_response = terra.generate_widget_session(\n",
    "    reference_id=\"USER ID IN YOUR APP\",\n",
    "    providers=[],\n",
    "    # providers=[\"FITBIT\", \"OURA\", \"FREESTYLELIBRE\", \"GARMIN\", \"XIAOMI\"],\n",
    "    auth_success_redirect_url=\"https://success.url\",\n",
    "    auth_failure_redirect_url=\"https://failure.url\",\n",
    "    language=\"en\"\n",
    ").get_parsed_response()\n",
    "\n",
    "print(widget_response)"
   ]
  },
  {
   "cell_type": "code",
   "execution_count": null,
   "metadata": {},
   "outputs": [],
   "source": [
    "# User Ids\n",
    "# GOOGLE: bf1d53bd-0bf4-4f6e-b892-49610a5deda0\n",
    "# GARMIN: c62f231d-69cf-44f7-ba46-93c9e4de3ccd"
   ]
  },
  {
   "cell_type": "code",
   "execution_count": 72,
   "metadata": {},
   "outputs": [],
   "source": [
    "# Create a user object\n",
    "# USER_ID = \"bf1d53bd-0bf4-4f6e-b892-49610a5deda0\"\n",
    "USER_ID = \"c62f231d-69cf-44f7-ba46-93c9e4de3ccd\"\n",
    "terra_user = terra.from_user_id(USER_ID)"
   ]
  },
  {
   "cell_type": "code",
   "execution_count": 83,
   "metadata": {},
   "outputs": [],
   "source": [
    "# This block sends the webhook request for data\n",
    "daily_resp = terra_user.get_daily(start_date=datetime.strptime('2023-08-01','%Y-%m-%d'), end_date=datetime.now(), to_webhook = False, with_samples=False )\n",
    "daily_resp_json = daily_resp.get_json()"
   ]
  },
  {
   "cell_type": "code",
   "execution_count": 84,
   "metadata": {},
   "outputs": [
    {
     "data": {
      "text/plain": [
       "{'message': 'Large request submitted. The data is being processed and will be sent to your webhook in chunks',\n",
       " 'reference': '84163c17-88a5-41a6-b4b4-fe8fd272c7b3',\n",
       " 'status': 'success',\n",
       " 'type': 'sent_to_webhook',\n",
       " 'user': {'last_webhook_update': None,\n",
       "  'provider': 'GARMIN',\n",
       "  'reference_id': 'USER ID IN YOUR APP',\n",
       "  'scopes': 'COURSE_IMPORT,ACTIVITY_EXPORT,HEALTH_EXPORT,MCT_EXPORT,WORKOUT_IMPORT',\n",
       "  'user_id': 'c62f231d-69cf-44f7-ba46-93c9e4de3ccd'}}"
      ]
     },
     "execution_count": 84,
     "metadata": {},
     "output_type": "execute_result"
    }
   ],
   "source": [
    "daily_resp_json"
   ]
  },
  {
   "cell_type": "code",
   "execution_count": 53,
   "metadata": {},
   "outputs": [
    {
     "ename": "KeyError",
     "evalue": "'data'",
     "output_type": "error",
     "traceback": [
      "\u001b[0;31m---------------------------------------------------------------------------\u001b[0m",
      "\u001b[0;31mKeyError\u001b[0m                                  Traceback (most recent call last)",
      "Cell \u001b[0;32mIn[53], line 23\u001b[0m\n\u001b[1;32m     15\u001b[0m     df \u001b[39m=\u001b[39m pd\u001b[39m.\u001b[39mDataFrame({\n\u001b[1;32m     16\u001b[0m         \u001b[39m\"\u001b[39m\u001b[39mavg_heart_rate\u001b[39m\u001b[39m\"\u001b[39m: avg_heart_rate,\n\u001b[1;32m     17\u001b[0m         \u001b[39m\"\u001b[39m\u001b[39mact_seconds\u001b[39m\u001b[39m\"\u001b[39m: act_seconds,\n\u001b[1;32m     18\u001b[0m         \u001b[39m\"\u001b[39m\u001b[39mact_calories\u001b[39m\u001b[39m\"\u001b[39m: act_calories,\n\u001b[1;32m     19\u001b[0m         \u001b[39m\"\u001b[39m\u001b[39mavg_stress\u001b[39m\u001b[39m\"\u001b[39m: avg_stress,\n\u001b[1;32m     20\u001b[0m     })\n\u001b[1;32m     21\u001b[0m     \u001b[39mreturn\u001b[39;00m df\n\u001b[0;32m---> 23\u001b[0m df \u001b[39m=\u001b[39m get_df_data(daily_resp_json)\n\u001b[1;32m     24\u001b[0m df\n",
      "Cell \u001b[0;32mIn[53], line 6\u001b[0m, in \u001b[0;36mget_df_data\u001b[0;34m(daily_resp_json)\u001b[0m\n\u001b[1;32m      4\u001b[0m act_calories \u001b[39m=\u001b[39m []\n\u001b[1;32m      5\u001b[0m avg_stress \u001b[39m=\u001b[39m []\n\u001b[0;32m----> 6\u001b[0m \u001b[39mfor\u001b[39;00m day \u001b[39min\u001b[39;00m daily_resp_json[\u001b[39m\"\u001b[39;49m\u001b[39mdata\u001b[39;49m\u001b[39m\"\u001b[39;49m]:\n\u001b[1;32m      7\u001b[0m     ahr \u001b[39m=\u001b[39m day[\u001b[39m\"\u001b[39m\u001b[39mheart_rate_data\u001b[39m\u001b[39m\"\u001b[39m][\u001b[39m\"\u001b[39m\u001b[39msummary\u001b[39m\u001b[39m\"\u001b[39m][\u001b[39m\"\u001b[39m\u001b[39mavg_hr_bpm\u001b[39m\u001b[39m\"\u001b[39m]\n\u001b[1;32m      8\u001b[0m     act_secs \u001b[39m=\u001b[39m day[\u001b[39m\"\u001b[39m\u001b[39mactive_durations_data\u001b[39m\u001b[39m\"\u001b[39m][\u001b[39m\"\u001b[39m\u001b[39mactivity_seconds\u001b[39m\u001b[39m\"\u001b[39m]\n",
      "\u001b[0;31mKeyError\u001b[0m: 'data'"
     ]
    }
   ],
   "source": [
    "def get_df_data(daily_resp_json):\n",
    "    avg_heart_rate = []\n",
    "    act_seconds = []\n",
    "    act_calories = []\n",
    "    avg_stress = []\n",
    "    for day in daily_resp_json[\"data\"]:\n",
    "        ahr = day[\"heart_rate_data\"][\"summary\"][\"avg_hr_bpm\"]\n",
    "        act_secs = day[\"active_durations_data\"][\"activity_seconds\"]\n",
    "        act_cals = day[\"calories_data\"][\"net_activity_calories\"]\n",
    "        avg_strs = day[\"stress_data\"][\"avg_stress_level\"]\n",
    "        avg_heart_rate.append(ahr)\n",
    "        act_seconds.append(act_secs)\n",
    "        act_calories.append(act_cals)\n",
    "        avg_stress.append(avg_strs)\n",
    "    df = pd.DataFrame({\n",
    "        \"avg_heart_rate\": avg_heart_rate,\n",
    "        \"act_seconds\": act_seconds,\n",
    "        \"act_calories\": act_calories,\n",
    "        \"avg_stress\": avg_stress,\n",
    "    })\n",
    "    return df\n",
    "\n",
    "df = get_df_data(daily_resp_json)\n",
    "df"
   ]
  },
  {
   "cell_type": "code",
   "execution_count": 49,
   "metadata": {},
   "outputs": [
    {
     "data": {
      "text/html": [
       "<div>\n",
       "<style scoped>\n",
       "    .dataframe tbody tr th:only-of-type {\n",
       "        vertical-align: middle;\n",
       "    }\n",
       "\n",
       "    .dataframe tbody tr th {\n",
       "        vertical-align: top;\n",
       "    }\n",
       "\n",
       "    .dataframe thead th {\n",
       "        text-align: right;\n",
       "    }\n",
       "</style>\n",
       "<table border=\"1\" class=\"dataframe\">\n",
       "  <thead>\n",
       "    <tr style=\"text-align: right;\">\n",
       "      <th></th>\n",
       "      <th>avg_heart_rate</th>\n",
       "      <th>act_seconds</th>\n",
       "      <th>act_calories</th>\n",
       "      <th>avg_stress</th>\n",
       "    </tr>\n",
       "  </thead>\n",
       "  <tbody>\n",
       "    <tr>\n",
       "      <th>0</th>\n",
       "      <td>77.917355</td>\n",
       "      <td>7770</td>\n",
       "      <td>122</td>\n",
       "      <td>56</td>\n",
       "    </tr>\n",
       "    <tr>\n",
       "      <th>1</th>\n",
       "      <td>67.004980</td>\n",
       "      <td>3280</td>\n",
       "      <td>60</td>\n",
       "      <td>28</td>\n",
       "    </tr>\n",
       "    <tr>\n",
       "      <th>2</th>\n",
       "      <td>71.544506</td>\n",
       "      <td>12325</td>\n",
       "      <td>394</td>\n",
       "      <td>34</td>\n",
       "    </tr>\n",
       "    <tr>\n",
       "      <th>3</th>\n",
       "      <td>71.190337</td>\n",
       "      <td>7705</td>\n",
       "      <td>339</td>\n",
       "      <td>33</td>\n",
       "    </tr>\n",
       "    <tr>\n",
       "      <th>4</th>\n",
       "      <td>75.495542</td>\n",
       "      <td>0</td>\n",
       "      <td>0</td>\n",
       "      <td>-1</td>\n",
       "    </tr>\n",
       "    <tr>\n",
       "      <th>5</th>\n",
       "      <td>75.495542</td>\n",
       "      <td>0</td>\n",
       "      <td>0</td>\n",
       "      <td>-1</td>\n",
       "    </tr>\n",
       "    <tr>\n",
       "      <th>6</th>\n",
       "      <td>72.600000</td>\n",
       "      <td>60</td>\n",
       "      <td>0</td>\n",
       "      <td>46</td>\n",
       "    </tr>\n",
       "    <tr>\n",
       "      <th>7</th>\n",
       "      <td>82.864012</td>\n",
       "      <td>17345</td>\n",
       "      <td>875</td>\n",
       "      <td>44</td>\n",
       "    </tr>\n",
       "    <tr>\n",
       "      <th>8</th>\n",
       "      <td>73.738278</td>\n",
       "      <td>7345</td>\n",
       "      <td>445</td>\n",
       "      <td>31</td>\n",
       "    </tr>\n",
       "    <tr>\n",
       "      <th>9</th>\n",
       "      <td>87.104869</td>\n",
       "      <td>6075</td>\n",
       "      <td>162</td>\n",
       "      <td>63</td>\n",
       "    </tr>\n",
       "  </tbody>\n",
       "</table>\n",
       "</div>"
      ],
      "text/plain": [
       "   avg_heart_rate  act_seconds  act_calories  avg_stress\n",
       "0       77.917355         7770           122          56\n",
       "1       67.004980         3280            60          28\n",
       "2       71.544506        12325           394          34\n",
       "3       71.190337         7705           339          33\n",
       "4       75.495542            0             0          -1\n",
       "5       75.495542            0             0          -1\n",
       "6       72.600000           60             0          46\n",
       "7       82.864012        17345           875          44\n",
       "8       73.738278         7345           445          31\n",
       "9       87.104869         6075           162          63"
      ]
     },
     "execution_count": 49,
     "metadata": {},
     "output_type": "execute_result"
    }
   ],
   "source": [
    "avg_heart_rate_mean = df[\"avg_heart_rate\"].mean()\n",
    "df[\"avg_heart_rate\"].fillna(value=avg_heart_rate_mean, inplace=True)\n",
    "df"
   ]
  },
  {
   "cell_type": "code",
   "execution_count": 51,
   "metadata": {},
   "outputs": [
    {
     "data": {
      "text/plain": [
       "[77.91735537190083,\n",
       " 67.00498007968127,\n",
       " 71.54450625869264,\n",
       " 71.19033674963397,\n",
       " 75.49554216433334,\n",
       " 75.49554216433334,\n",
       " 72.6,\n",
       " 82.86401202103681,\n",
       " 73.73827791986359,\n",
       " 87.10486891385767]"
      ]
     },
     "execution_count": 51,
     "metadata": {},
     "output_type": "execute_result"
    }
   ],
   "source": [
    "df[\"avg_heart_rate\"].to_list()"
   ]
  },
  {
   "cell_type": "code",
   "execution_count": null,
   "metadata": {},
   "outputs": [],
   "source": [
    "# dict_keys(['MET_data', 'active_durations_data', 'calories_data', 'device_data', 'distance_data', 'heart_rate_data', 'metadata', 'oxygen_data', 'scores', 'strain_data', 'stress_data', 'tag_data'])"
   ]
  },
  {
   "cell_type": "code",
   "execution_count": 47,
   "metadata": {},
   "outputs": [
    {
     "data": {
      "text/plain": [
       "{'activity_stress_duration_seconds': 5580,\n",
       " 'avg_stress_level': 56,\n",
       " 'high_stress_duration_seconds': 1680,\n",
       " 'low_stress_duration_seconds': 3840,\n",
       " 'max_stress_level': 94,\n",
       " 'medium_stress_duration_seconds': 2820,\n",
       " 'rest_stress_duration_seconds': 120,\n",
       " 'samples': [],\n",
       " 'stress_duration_seconds': 8340}"
      ]
     },
     "execution_count": 47,
     "metadata": {},
     "output_type": "execute_result"
    }
   ],
   "source": [
    "daily_resp_json[\"data\"][0][\"stress_data\"]"
   ]
  }
 ],
 "metadata": {
  "kernelspec": {
   "display_name": "base",
   "language": "python",
   "name": "python3"
  },
  "language_info": {
   "codemirror_mode": {
    "name": "ipython",
    "version": 3
   },
   "file_extension": ".py",
   "mimetype": "text/x-python",
   "name": "python",
   "nbconvert_exporter": "python",
   "pygments_lexer": "ipython3",
   "version": "3.9.6"
  },
  "orig_nbformat": 4
 },
 "nbformat": 4,
 "nbformat_minor": 2
}
