{
 "cells": [
  {
   "cell_type": "code",
   "execution_count": 1,
   "metadata": {},
   "outputs": [],
   "source": [
    "import pandas as pd\n",
    "import numpy as np\n",
    "import os\n",
    "import json"
   ]
  },
  {
   "cell_type": "code",
   "execution_count": 4,
   "metadata": {},
   "outputs": [],
   "source": [
    "def get_df_data(daily_resp_json):\n",
    "    avg_heart_rate = []\n",
    "    act_seconds = []\n",
    "    act_calories = []\n",
    "    avg_stress = []\n",
    "    for day in daily_resp_json[\"data\"]:\n",
    "        ahr = day[\"heart_rate_data\"][\"summary\"][\"avg_hr_bpm\"]\n",
    "        act_secs = day[\"active_durations_data\"][\"activity_seconds\"]\n",
    "        act_cals = day[\"calories_data\"][\"net_activity_calories\"]\n",
    "        avg_strs = day[\"stress_data\"][\"avg_stress_level\"]\n",
    "        avg_heart_rate.append(ahr)\n",
    "        act_seconds.append(act_secs)\n",
    "        act_calories.append(act_cals)\n",
    "        avg_stress.append(avg_strs)\n",
    "    df = pd.DataFrame({\n",
    "        \"avg_heart_rate\": avg_heart_rate,\n",
    "        \"act_seconds\": act_seconds,\n",
    "        \"act_calories\": act_calories,\n",
    "        \"avg_stress\": avg_stress,\n",
    "    })\n",
    "    return df\n",
    "\n",
    "def extract_relevant_features(filename = \"output.json\"):\n",
    "    # Specify the file name and path\n",
    "    file_path = \"/Users/jasonzhang/Documents/PersonalProjects/HackMIT2023/jason/\" + filename\n",
    "\n",
    "    # Read the JSON file and parse it into a dictionary\n",
    "    with open(file_path, \"r\") as file:\n",
    "        data = json.load(file)\n",
    "        main_df = pd.read_csv(\"/Users/jasonzhang/Documents/PersonalProjects/HackMIT2023/jason/tracker_data.csv\")\n",
    "\n",
    "        # Add each partition's data to the main dataframe\n",
    "        for partition in data:\n",
    "            df = get_df_data(partition)\n",
    "            main_df = pd.concat([main_df, df], axis=0)\n",
    "        \n",
    "        clean_df = main_df.dropna().reset_index(drop=True)\n",
    "        clean_df.to_csv(\"tracker_data.csv\", index=False)"
   ]
  },
  {
   "cell_type": "code",
   "execution_count": 11,
   "metadata": {},
   "outputs": [
    {
     "name": "stderr",
     "output_type": "stream",
     "text": [
      "/var/folders/q0/tp61rdx579s1pr09fjqsx_gw0000gn/T/ipykernel_7949/2519871316.py:35: FutureWarning: The behavior of DataFrame concatenation with empty or all-NA entries is deprecated. In a future version, this will no longer exclude empty or all-NA columns when determining the result dtypes. To retain the old behavior, exclude the relevant entries before the concat operation.\n",
      "  main_df = pd.concat([main_df, df], axis=0)\n"
     ]
    }
   ],
   "source": [
    "extract_relevant_features(\"output4.json\")"
   ]
  },
  {
   "cell_type": "code",
   "execution_count": 13,
   "metadata": {},
   "outputs": [
    {
     "data": {
      "text/html": [
       "<div>\n",
       "<style scoped>\n",
       "    .dataframe tbody tr th:only-of-type {\n",
       "        vertical-align: middle;\n",
       "    }\n",
       "\n",
       "    .dataframe tbody tr th {\n",
       "        vertical-align: top;\n",
       "    }\n",
       "\n",
       "    .dataframe thead th {\n",
       "        text-align: right;\n",
       "    }\n",
       "</style>\n",
       "<table border=\"1\" class=\"dataframe\">\n",
       "  <thead>\n",
       "    <tr style=\"text-align: right;\">\n",
       "      <th></th>\n",
       "      <th>avg_heart_rate</th>\n",
       "      <th>act_seconds</th>\n",
       "      <th>act_calories</th>\n",
       "      <th>avg_stress</th>\n",
       "    </tr>\n",
       "  </thead>\n",
       "  <tbody>\n",
       "    <tr>\n",
       "      <th>0</th>\n",
       "      <td>77.917355</td>\n",
       "      <td>7770</td>\n",
       "      <td>122</td>\n",
       "      <td>56</td>\n",
       "    </tr>\n",
       "    <tr>\n",
       "      <th>1</th>\n",
       "      <td>67.004980</td>\n",
       "      <td>3280</td>\n",
       "      <td>60</td>\n",
       "      <td>28</td>\n",
       "    </tr>\n",
       "    <tr>\n",
       "      <th>2</th>\n",
       "      <td>71.544506</td>\n",
       "      <td>12325</td>\n",
       "      <td>394</td>\n",
       "      <td>34</td>\n",
       "    </tr>\n",
       "    <tr>\n",
       "      <th>3</th>\n",
       "      <td>71.190337</td>\n",
       "      <td>7705</td>\n",
       "      <td>339</td>\n",
       "      <td>33</td>\n",
       "    </tr>\n",
       "    <tr>\n",
       "      <th>4</th>\n",
       "      <td>72.600000</td>\n",
       "      <td>60</td>\n",
       "      <td>0</td>\n",
       "      <td>46</td>\n",
       "    </tr>\n",
       "    <tr>\n",
       "      <th>...</th>\n",
       "      <td>...</td>\n",
       "      <td>...</td>\n",
       "      <td>...</td>\n",
       "      <td>...</td>\n",
       "    </tr>\n",
       "    <tr>\n",
       "      <th>61</th>\n",
       "      <td>84.267792</td>\n",
       "      <td>24663</td>\n",
       "      <td>1134</td>\n",
       "      <td>37</td>\n",
       "    </tr>\n",
       "    <tr>\n",
       "      <th>62</th>\n",
       "      <td>91.182045</td>\n",
       "      <td>14203</td>\n",
       "      <td>780</td>\n",
       "      <td>66</td>\n",
       "    </tr>\n",
       "    <tr>\n",
       "      <th>63</th>\n",
       "      <td>78.578984</td>\n",
       "      <td>21439</td>\n",
       "      <td>928</td>\n",
       "      <td>38</td>\n",
       "    </tr>\n",
       "    <tr>\n",
       "      <th>64</th>\n",
       "      <td>63.250000</td>\n",
       "      <td>360</td>\n",
       "      <td>0</td>\n",
       "      <td>19</td>\n",
       "    </tr>\n",
       "    <tr>\n",
       "      <th>65</th>\n",
       "      <td>72.212658</td>\n",
       "      <td>11899</td>\n",
       "      <td>448</td>\n",
       "      <td>32</td>\n",
       "    </tr>\n",
       "  </tbody>\n",
       "</table>\n",
       "<p>66 rows × 4 columns</p>\n",
       "</div>"
      ],
      "text/plain": [
       "    avg_heart_rate  act_seconds  act_calories  avg_stress\n",
       "0        77.917355         7770           122          56\n",
       "1        67.004980         3280            60          28\n",
       "2        71.544506        12325           394          34\n",
       "3        71.190337         7705           339          33\n",
       "4        72.600000           60             0          46\n",
       "..             ...          ...           ...         ...\n",
       "61       84.267792        24663          1134          37\n",
       "62       91.182045        14203           780          66\n",
       "63       78.578984        21439           928          38\n",
       "64       63.250000          360             0          19\n",
       "65       72.212658        11899           448          32\n",
       "\n",
       "[66 rows x 4 columns]"
      ]
     },
     "execution_count": 13,
     "metadata": {},
     "output_type": "execute_result"
    }
   ],
   "source": [
    "df = pd.read_csv(\"tracker_data.csv\")\n",
    "df"
   ]
  },
  {
   "cell_type": "code",
   "execution_count": 14,
   "metadata": {},
   "outputs": [
    {
     "data": {
      "text/plain": [
       "<Axes: >"
      ]
     },
     "execution_count": 14,
     "metadata": {},
     "output_type": "execute_result"
    },
    {
     "data": {
      "image/png": "[encoded data removed]",
      "text/plain": [
       "<Figure size 640x480 with 1 Axes>"
      ]
     },
     "metadata": {},
     "output_type": "display_data"
    }
   ],
   "source": [
    "df.avg_heart_rate.plot.line()"
   ]
  }
 ],
 "metadata": {
  "kernelspec": {
   "display_name": ".venv",
   "language": "python",
   "name": "python3"
  },
  "language_info": {
   "codemirror_mode": {
    "name": "ipython",
    "version": 3
   },
   "file_extension": ".py",
   "mimetype": "text/x-python",
   "name": "python",
   "nbconvert_exporter": "python",
   "pygments_lexer": "ipython3",
   "version": "3.9.6"
  },
  "orig_nbformat": 4
 },
 "nbformat": 4,
 "nbformat_minor": 2
}
